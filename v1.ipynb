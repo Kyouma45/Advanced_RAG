{
 "cells": [
  {
   "cell_type": "code",
   "execution_count": 12,
   "id": "b273f3a9-8684-4ab3-8a06-d716da30b6a6",
   "metadata": {},
   "outputs": [
    {
     "data": {
      "text/plain": [
       "True"
      ]
     },
     "execution_count": 12,
     "metadata": {},
     "output_type": "execute_result"
    }
   ],
   "source": [
    "from PyPDF2 import PdfReader\n",
    "from langchain.text_splitter import RecursiveCharacterTextSplitter\n",
    "import os\n",
    "from langchain_google_genai import GoogleGenerativeAIEmbeddings\n",
    "from langchain_google_genai import ChatGoogleGenerativeAI\n",
    "from langchain.chains.question_answering import load_qa_chain\n",
    "from langchain.prompts import PromptTemplate\n",
    "from langchain import hub\n",
    "from langchain_core.output_parsers import StrOutputParser\n",
    "from langchain_core.runnables import RunnablePassthrough\n",
    "from dotenv import load_dotenv\n",
    "from langchain.vectorstores import FAISS\n",
    "\n",
    "load_dotenv()"
   ]
  },
  {
   "cell_type": "code",
   "execution_count": 13,
   "id": "877023f0-1f90-4065-bd35-0380e63b5789",
   "metadata": {},
   "outputs": [],
   "source": [
    "#Reading PDFs\n",
    "def get_pdf_text(pdf_docs):\n",
    "    text=\"\"\n",
    "    for pdf in pdf_docs:\n",
    "        pdf_reader= PdfReader(pdf)\n",
    "        for page in pdf_reader.pages:\n",
    "            text+= page.extract_text()\n",
    "    return  text"
   ]
  },
  {
   "cell_type": "code",
   "execution_count": 14,
   "id": "17bada1b-4f41-441c-bfff-040cccae079f",
   "metadata": {},
   "outputs": [],
   "source": [
    "#Creating Chunks\n",
    "def get_text_chunks(text):\n",
    "    text_splitter = RecursiveCharacterTextSplitter(chunk_size=2000, chunk_overlap=200)\n",
    "    chunks = text_splitter.split_text(text)\n",
    "    return chunks"
   ]
  },
  {
   "cell_type": "code",
   "execution_count": 15,
   "id": "e9a8a75f-b739-46d5-933e-8c61a8a0060c",
   "metadata": {},
   "outputs": [],
   "source": [
    "embeddings = GoogleGenerativeAIEmbeddings(model = \"models/embedding-001\", task_type=\"retrieval_query\")"
   ]
  },
  {
   "cell_type": "code",
   "execution_count": 16,
   "id": "4b192ca4-5848-489b-b2bf-308067b6dfbc",
   "metadata": {},
   "outputs": [],
   "source": [
    "#generating vector store\n",
    "def get_vector_store(text_chunks):\n",
    "    vector_store = FAISS.from_texts(text_chunks, embedding=embeddings)\n",
    "    vector_store.save_local(\"faiss_index\")"
   ]
  },
  {
   "cell_type": "code",
   "execution_count": null,
   "id": "51a8ad96-4063-4855-93ea-19b4472725c3",
   "metadata": {},
   "outputs": [],
   "source": []
  },
  {
   "cell_type": "code",
   "execution_count": 17,
   "id": "3b8b655e-4609-473f-ae9f-661b3479599d",
   "metadata": {},
   "outputs": [],
   "source": [
    "llm = ChatGoogleGenerativeAI(model=\"gemini-pro\", temperature=0.3)\n",
    "prompt = hub.pull(\"rlm/rag-prompt\")"
   ]
  },
  {
   "cell_type": "code",
   "execution_count": 24,
   "id": "4904456f-8c42-4c7e-9287-eca617fc74a3",
   "metadata": {},
   "outputs": [],
   "source": [
    "raw_text = get_pdf_text(['./CLIP_2103.00020v1.pdf','Apple_DCLM_2406.11794v3.pdf','BERT_1810.04805v2.pdf','Carbon_Footprint_2204.05149v1.pdf','Computer_Vision_Dataset_Balance1908.04913v1.pdf','Context_Length_2407.11963v1.pdf','Distil-BERT_1910.01108v4.pdf'\n",
    "                        ,'Gemini_2312.11805v4.pdf','Roberta_1911.02116v2.pdf','SigLIP_2303.15343v4.pdf','T5_1910.09700v2.pdf'])\n",
    "text_chunks = get_text_chunks(raw_text)\n",
    "get_vector_store(text_chunks)"
   ]
  },
  {
   "cell_type": "code",
   "execution_count": null,
   "id": "c7a63fa0-5668-4238-9eee-33b690526957",
   "metadata": {},
   "outputs": [],
   "source": [
    "new_db = FAISS.load_local(\"faiss_index\", embeddings, allow_dangerous_deserialization=True)\n",
    "retriever=new_db.as_retriever()"
   ]
  },
  {
   "cell_type": "code",
   "execution_count": 25,
   "id": "b1936b5c-c4e4-43b7-be52-942caa81b3e7",
   "metadata": {},
   "outputs": [],
   "source": [
    "rag_chain = (\n",
    "    {\"context\": retriever , \"question\": RunnablePassthrough()}\n",
    "    | prompt\n",
    "    | llm\n",
    "    | StrOutputParser()\n",
    ")"
   ]
  },
  {
   "cell_type": "code",
   "execution_count": 28,
   "id": "3f559c68-b2bd-4da5-9b3d-590d9e3687ad",
   "metadata": {},
   "outputs": [
    {
     "data": {
      "text/plain": [
       "'The authors evaluate the SigLiT and SigLIP models across a wide range of batch sizes. They discuss what can be achieved with a small number of accelerator chips, using both SigLiT and SigLIP recipes. They also briefly discuss the impact of batch size on multilingual language image pre-training.'"
      ]
     },
     "execution_count": 28,
     "metadata": {},
     "output_type": "execute_result"
    }
   ],
   "source": [
    "rag_chain.invoke(\"\"\"we evaluate the proposed SigLiT and\n",
    "SigLIP models across a wide range of batch sizes. We dis-\n",
    "cuss what can be achieved with a small number of accel-\n",
    "erator chips, using both SigLiT and SigLIP recipes.\"\"\")"
   ]
  },
  {
   "cell_type": "code",
   "execution_count": null,
   "id": "d7f91bbd-baab-4267-a102-edcaf278ab48",
   "metadata": {},
   "outputs": [],
   "source": []
  }
 ],
 "metadata": {
  "kernelspec": {
   "display_name": "Python 3 (ipykernel)",
   "language": "python",
   "name": "python3"
  },
  "language_info": {
   "codemirror_mode": {
    "name": "ipython",
    "version": 3
   },
   "file_extension": ".py",
   "mimetype": "text/x-python",
   "name": "python",
   "nbconvert_exporter": "python",
   "pygments_lexer": "ipython3",
   "version": "3.10.12"
  }
 },
 "nbformat": 4,
 "nbformat_minor": 5
}
